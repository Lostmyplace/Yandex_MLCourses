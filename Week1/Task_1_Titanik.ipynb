{
 "cells": [
  {
   "cell_type": "code",
   "execution_count": 249,
   "metadata": {
    "collapsed": false
   },
   "outputs": [],
   "source": [
    "import pandas as pd\n",
    "\n",
    "data = pd.read_csv('titanic.csv',index_col = 'PassengerId')\n"
   ]
  },
  {
   "cell_type": "markdown",
   "metadata": {},
   "source": [
    "Какое количество мужчин и женщин ехало на корабле? В качестве ответа приведите два числа через пробел"
   ]
  },
  {
   "cell_type": "code",
   "execution_count": 247,
   "metadata": {
    "collapsed": false
   },
   "outputs": [],
   "source": [
    "male_n = (data[data.Sex=='male']).shape[0]\n",
    "female_n = (data[data.Sex=='female']).shape[0]\n",
    "f = open('1.txt','w')\n",
    "f.write (str(male_n)+' ' +str( female_n))\n",
    "f.close()"
   ]
  },
  {
   "cell_type": "markdown",
   "metadata": {},
   "source": [
    "Какой части пассажиров удалось выжить? Посчитайте долю вы-\n",
    "живших пассажиров. Ответ приведите в процентах (знак процента\n",
    "не нужен)."
   ]
  },
  {
   "cell_type": "code",
   "execution_count": 259,
   "metadata": {
    "collapsed": false
   },
   "outputs": [],
   "source": [
    "Survived_n = (data[data.Survived==1]).shape[0]*100\n",
    "allSur = float(Survived_n)/float(data.shape[0])\n",
    "f = open('2.txt','w')\n",
    "f.write ('%.2f'%(allSur))\n",
    "f.close()"
   ]
  },
  {
   "cell_type": "markdown",
   "metadata": {},
   "source": [
    "Какую долю пассажиры первого класса составляли среди всех пас-\n",
    "сажиров? Ответ приведите в процентах (знак процента не нужен)"
   ]
  },
  {
   "cell_type": "code",
   "execution_count": 116,
   "metadata": {
    "collapsed": false
   },
   "outputs": [],
   "source": [
    "passFCalss =  data[data.Pclass==1].shape[0]\n",
    "partPassFClass = float(passFCalss) / float(data.shape[0])  * 100 \n",
    "\n",
    "f = open('3.txt','w')\n",
    "f.write (str(partPassFClass))\n",
    "f.close()"
   ]
  },
  {
   "cell_type": "markdown",
   "metadata": {},
   "source": [
    "Какого возраста были пассажиры? Посчитайте среднее и медиану\n",
    "возраста пассажиров. В качестве ответа приведите два числа через\n",
    "пробел"
   ]
  },
  {
   "cell_type": "code",
   "execution_count": 238,
   "metadata": {
    "collapsed": false
   },
   "outputs": [],
   "source": [
    "meanAge = data.Age.mean(axis = 0)\n",
    "medianAge = data.Age.median(axis = 0)\n",
    "\n",
    "f = open('4.txt','w')\n",
    "f.write ('%.2f %.2f' % (meanAge, medianAge))\n",
    "f.close()"
   ]
  },
  {
   "cell_type": "markdown",
   "metadata": {},
   "source": [
    "Коррелируют ли число братьев/сестер с числом родителей/детей?\n",
    "Посчитайте корреляцию Пирсона между признаками SibSp и Parch"
   ]
  },
  {
   "cell_type": "code",
   "execution_count": 241,
   "metadata": {
    "collapsed": false
   },
   "outputs": [],
   "source": [
    "corrPearson =  data.SibSp.corr( data.Parch)\n",
    "\n",
    "f = open('5.txt','w')\n",
    "f.write ('%.2f' % corrPearson)\n",
    "f.close()"
   ]
  },
  {
   "cell_type": "markdown",
   "metadata": {},
   "source": [
    "Какое самое популярное женское имя на корабле? Извлеките из\n",
    "полного имени пассажира (колонка Name) его личное имя (First\n",
    "Name). Это задание \u0016 типичный пример того, с чем сталкивает-\n",
    "ся специалист по анализу данных. Данные очень разнородные и\n",
    "шумные, но из них требуется извлечь необходимую информацию.\n",
    "Попробуйте вручную разобрать несколько значений столбца Name\n",
    "и выработать правило для извлечения имен, а также разделения\n",
    "их на женские и мужские."
   ]
  },
  {
   "cell_type": "code",
   "execution_count": 140,
   "metadata": {
    "collapsed": false
   },
   "outputs": [
    {
     "name": "stdout",
     "output_type": "stream",
     "text": [
      "Index([u'Survived', u'Pclass', u'Name', u'Sex', u'Age', u'SibSp', u'Parch',\n",
      "       u'Ticket', u'Fare', u'Cabin', u'Embarked'],\n",
      "      dtype='object')\n"
     ]
    }
   ],
   "source": [
    "print data.columns"
   ]
  },
  {
   "cell_type": "code",
   "execution_count": 233,
   "metadata": {
    "collapsed": false
   },
   "outputs": [],
   "source": [
    "names = data[data.Sex == 'female'].Name\n",
    "\n",
    "top_names = pandas.Series(\" \".join(names).split()).value_counts()\n",
    "#print top_names\n",
    "result = top_names.index[4]\n",
    "t = open(\"6.txt\", \"w\")\n",
    "t.write(result)"
   ]
  }
 ],
 "metadata": {
  "kernelspec": {
   "display_name": "Python 2",
   "language": "python",
   "name": "python2"
  },
  "language_info": {
   "codemirror_mode": {
    "name": "ipython",
    "version": 2
   },
   "file_extension": ".py",
   "mimetype": "text/x-python",
   "name": "python",
   "nbconvert_exporter": "python",
   "pygments_lexer": "ipython2",
   "version": "2.7.11"
  }
 },
 "nbformat": 4,
 "nbformat_minor": 0
}
