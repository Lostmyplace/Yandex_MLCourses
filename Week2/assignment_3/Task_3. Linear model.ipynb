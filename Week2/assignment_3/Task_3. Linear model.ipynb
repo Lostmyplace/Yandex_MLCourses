{
 "cells": [
  {
   "cell_type": "code",
   "execution_count": 2,
   "metadata": {
    "collapsed": false
   },
   "outputs": [],
   "source": [
    "import numpy as np\n",
    "from sklearn.linear_model import Perceptron\n",
    "from sklearn.metrics import accuracy_score\n",
    "\n",
    "from sklearn.preprocessing import StandardScaler\n",
    "\n",
    "import pandas as pd\n",
    "\n",
    "\n",
    "names = range(3)\n",
    "train_data = pd.read_csv('perceptron-train.csv', names = names)\n",
    "test_data = pd.read_csv('perceptron-test.csv', names = names)\n",
    "\n",
    "X_train = train_data[names[1:]]\n",
    "X_test = test_data[names[1:]]\n",
    "\n",
    "y_train = train_data[names[0]]\n",
    "y_test = test_data[names[0]]\n",
    "\n",
    "\n",
    "#####---------------------\n",
    "\n",
    "clf = Perceptron ( random_state=241)\n",
    "clf.fit (X_train, y_train )\n",
    "predictions = clf.predict(X_test)\n",
    "score = accuracy_score(y_test,predictions)\n",
    "\n",
    "#####---------------------\n",
    "scaler = StandardScaler()\n",
    "X_train_scaled = scaler.fit_transform(X_train)\n",
    "X_test_scaled = scaler.transform(X_test)\n",
    "\n",
    "\n",
    "clf = Perceptron(random_state=241)\n",
    "clf.fit(X_train_scaled, y_train)\n",
    "prediciton = clf.predict(X_test_scaled)\n",
    "\n",
    "score_scaled= accuracy_score(prediciton, y_test)\n",
    "\n",
    "result = score_scaled - score\n"
   ]
  },
  {
   "cell_type": "code",
   "execution_count": 3,
   "metadata": {
    "collapsed": false
   },
   "outputs": [],
   "source": [
    "with open ('q_res.txt', 'w') as out:\n",
    "    out.write('%.3f'% result)"
   ]
  }
 ],
 "metadata": {
  "kernelspec": {
   "display_name": "Python 2",
   "language": "python",
   "name": "python2"
  },
  "language_info": {
   "codemirror_mode": {
    "name": "ipython",
    "version": 2
   },
   "file_extension": ".py",
   "mimetype": "text/x-python",
   "name": "python",
   "nbconvert_exporter": "python",
   "pygments_lexer": "ipython2",
   "version": "2.7.11"
  }
 },
 "nbformat": 4,
 "nbformat_minor": 0
}
