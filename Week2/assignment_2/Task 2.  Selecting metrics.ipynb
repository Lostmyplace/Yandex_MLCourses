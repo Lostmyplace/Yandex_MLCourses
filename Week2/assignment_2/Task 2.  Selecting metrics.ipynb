{
 "cells": [
  {
   "cell_type": "code",
   "execution_count": 31,
   "metadata": {
    "collapsed": false
   },
   "outputs": [],
   "source": [
    "from sklearn.neighbors import KNeighborsClassifier, KNeighborsRegressor\n",
    "from sklearn.cross_validation import cross_val_score\n",
    "from sklearn.datasets import load_boston\n",
    "from sklearn.preprocessing import scale\n",
    "from sklearn.cross_validation import KFold\n",
    "\n",
    "import numpy as np"
   ]
  },
  {
   "cell_type": "code",
   "execution_count": 61,
   "metadata": {
    "collapsed": false
   },
   "outputs": [],
   "source": [
    "boston_data = load_boston()\n",
    "\n",
    "X = boston_data.data\n",
    "y = boston_data.target\n",
    "\n",
    "X = scale(X)\n",
    "\n",
    "variance = np.linspace(1,10,200)\n",
    "\n",
    "kf = KFold(len(y), n_folds=5, shuffle=True, random_state=42)\n",
    "\n",
    "result = np.array([])\n",
    "for i in variance:\n",
    "    knr = KNeighborsRegressor(n_neighbors= 5,p = i, weights='distance')\n",
    "    score = cross_val_score(knr,X,y ,cv=kf,scoring='mean_squared_error').mean()\n",
    "    #print score\n",
    "    result = np.append(result, score)"
   ]
  },
  {
   "cell_type": "code",
   "execution_count": 67,
   "metadata": {
    "collapsed": false
   },
   "outputs": [],
   "source": [
    "index_p = np.where (result == result.max())[0]\n",
    "\n",
    "best_p = variance[index_p][0]"
   ]
  },
  {
   "cell_type": "code",
   "execution_count": 68,
   "metadata": {
    "collapsed": true
   },
   "outputs": [],
   "source": [
    "with open('task_2_best_p.txt', 'w') as out:\n",
    "    out.write('%.2f' % best_p)"
   ]
  }
 ],
 "metadata": {
  "kernelspec": {
   "display_name": "Python 2",
   "language": "python",
   "name": "python2"
  },
  "language_info": {
   "codemirror_mode": {
    "name": "ipython",
    "version": 2
   },
   "file_extension": ".py",
   "mimetype": "text/x-python",
   "name": "python",
   "nbconvert_exporter": "python",
   "pygments_lexer": "ipython2",
   "version": "2.7.11"
  }
 },
 "nbformat": 4,
 "nbformat_minor": 0
}
