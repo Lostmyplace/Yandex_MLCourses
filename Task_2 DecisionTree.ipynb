{
 "cells": [
  {
   "cell_type": "code",
   "execution_count": 178,
   "metadata": {
    "collapsed": false
   },
   "outputs": [
    {
     "name": "stdout",
     "output_type": "stream",
     "text": [
      "[ 0.14000522  0.30343647  0.30051221  0.2560461 ]\n",
      "['Fare' 'Sex']\n"
     ]
    },
    {
     "name": "stderr",
     "output_type": "stream",
     "text": [
      "C:\\Anaconda2\\lib\\site-packages\\ipykernel\\__main__.py:14: SettingWithCopyWarning: \n",
      "A value is trying to be set on a copy of a slice from a DataFrame.\n",
      "Try using .loc[row_indexer,col_indexer] = value instead\n",
      "\n",
      "See the caveats in the documentation: http://pandas.pydata.org/pandas-docs/stable/indexing.html#indexing-view-versus-copy\n"
     ]
    }
   ],
   "source": [
    "import pandas as pd\n",
    "from sklearn.tree import DecisionTreeClassifier\n",
    "import numpy as np\n",
    "\n",
    "data = pd.read_csv('titanic.csv')\n",
    "target_params =  ['Pclass', 'Fare', 'Sex', 'Age']\n",
    "all_params = target_params + ['Survived']\n",
    "\n",
    "clearDF =  data[all_params].dropna()\n",
    "\n",
    "X = clearDF[target_params]\n",
    "y = clearDF['Survived']\n",
    "\n",
    "X['Sex']= X['Sex'].map({'female' : 0, 'male' :1})\n",
    "\n",
    "clf = DecisionTreeClassifier(random_state=241)\n",
    "clf.fit(X, y)\n",
    "classifief_res = clf.feature_importances_\n",
    "print classifier_res\n",
    "\n",
    "cl = np.stack((target_params, classifier_res))\n",
    "\n",
    "result =  np.fliplr(np.sort(cl, axis = 0))\n",
    "\n",
    "two_most_important_criteria_index = list(map(classifier_res.tolist().index, heapq.nlargest(2, classifier_res)))\n",
    "two_most_important_criteria = np.array([categorial[i] for i in two_most_important_criteria_index])\n",
    "print two_most_important_criteria\n",
    "\n",
    "fileOut =  open (\"DF_task.txt\", \"w\")\n",
    "fileOut.write(\",\".join(two_most_important_criteria))\n",
    "fileOut.close()\n"
   ]
  }
 ],
 "metadata": {
  "kernelspec": {
   "display_name": "Python 2",
   "language": "python",
   "name": "python2"
  },
  "language_info": {
   "codemirror_mode": {
    "name": "ipython",
    "version": 2
   },
   "file_extension": ".py",
   "mimetype": "text/x-python",
   "name": "python",
   "nbconvert_exporter": "python",
   "pygments_lexer": "ipython2",
   "version": "2.7.11"
  }
 },
 "nbformat": 4,
 "nbformat_minor": 0
}
