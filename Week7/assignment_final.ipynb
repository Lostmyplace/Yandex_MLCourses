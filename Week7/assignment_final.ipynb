{
 "cells": [
  {
   "cell_type": "code",
   "execution_count": 1,
   "metadata": {
    "collapsed": false
   },
   "outputs": [],
   "source": [
    "import pandas as pd\n",
    "import numpy as np\n",
    "\n",
    "from sklearn.cross_validation import KFold, cross_val_score\n",
    "from sklearn.ensemble import GradientBoostingClassifier\n",
    "from sklearn.metrics import roc_auc_score, accuracy_score\n",
    "\n",
    "import time\n",
    "import datetime\n",
    "\n",
    "import extract_features as ef\n"
   ]
  },
  {
   "cell_type": "markdown",
   "metadata": {},
   "source": [
    "### Чтение файлов с наборами данных\n",
    "\n",
    "Считайте таблицу с признаками из файла features.csv "
   ]
  },
  {
   "cell_type": "code",
   "execution_count": 2,
   "metadata": {
    "collapsed": false
   },
   "outputs": [],
   "source": [
    "train_features = pd.read_csv('./features.csv', index_col='match_id')\n",
    "test_features = pd.read_csv('./features_test.csv', index_col='match_id')"
   ]
  },
  {
   "cell_type": "markdown",
   "metadata": {},
   "source": [
    "Удалиv признаки, связанные с итогами матча ( помечены в описании данных как отсутствующие в тестовой выборке)."
   ]
  },
  {
   "cell_type": "code",
   "execution_count": 3,
   "metadata": {
    "collapsed": false
   },
   "outputs": [
    {
     "name": "stdout",
     "output_type": "stream",
     "text": [
      "['tower_status_dire', 'barracks_status_dire', 'barracks_status_radiant', 'tower_status_radiant', 'duration', 'radiant_win']\n"
     ]
    }
   ],
   "source": [
    "delete_columns_features = [x for x in set(train_features.columns) - set(test_features.columns)]  \n",
    "\n",
    "print delete_columns_features"
   ]
  },
  {
   "cell_type": "code",
   "execution_count": 4,
   "metadata": {
    "collapsed": false
   },
   "outputs": [],
   "source": [
    "X_train = train_features.drop(delete_columns_features, axis = 1)\n",
    "X_test = test_features\n",
    "\n",
    "y_train = train_features.radiant_win"
   ]
  },
  {
   "cell_type": "markdown",
   "metadata": {},
   "source": [
    "Проверьте выборку на наличие пропусков с помощью функции count(), которая для каждого столбца показывает число заполненных значений. Много ли пропусков в данных? Запишите названия признаков, имеющих пропуски, и попробуйте для любых двух из них дать обоснование, почему их значения могут быть пропущены."
   ]
  },
  {
   "cell_type": "code",
   "execution_count": 9,
   "metadata": {
    "collapsed": false
   },
   "outputs": [
    {
     "name": "stdout",
     "output_type": "stream",
     "text": [
      "first_blood_time , nan values =  19553\n",
      "first_blood_team , nan values =  19553\n",
      "first_blood_player1 , nan values =  19553\n",
      "first_blood_player2 , nan values =  43987\n",
      "radiant_bottle_time , nan values =  15691\n",
      "radiant_courier_time , nan values =  692\n",
      "radiant_flying_courier_time , nan values =  27479\n",
      "radiant_first_ward_time , nan values =  1836\n",
      "dire_bottle_time , nan values =  16143\n",
      "dire_courier_time , nan values =  676\n",
      "dire_flying_courier_time , nan values =  26098\n",
      "dire_first_ward_time , nan values =  1826\n"
     ]
    }
   ],
   "source": [
    "for i in X_train.columns:\n",
    "    if X_train[i].count() < X_train.shape[0]:\n",
    "        print i, ', nan values = ', X_train.shape[0] - X_train[i].count()"
   ]
  },
  {
   "cell_type": "markdown",
   "metadata": {},
   "source": [
    "#### Объяснение пропусков\n",
    "\n",
    "first_blood_time и firstblood_team - одинаковое количество пропусков. Возможно, данные бои не состоялись как \"игра\" - то есть \"первая кровь\" и не была пролита.\n",
    "\n",
    "radiant_courier_time - курьер не был куплен\n"
   ]
  },
  {
   "cell_type": "markdown",
   "metadata": {},
   "source": [
    "###### Замените пропуски на нули с помощью функции fillna()."
   ]
  },
  {
   "cell_type": "code",
   "execution_count": 10,
   "metadata": {
    "collapsed": false
   },
   "outputs": [],
   "source": [
    "X_train = X_train.fillna(0)"
   ]
  },
  {
   "cell_type": "markdown",
   "metadata": {},
   "source": [
    "##### Какая переменная целевая?\n",
    "\n",
    "radiant_win - т.к. решаем задачу о победе команды"
   ]
  },
  {
   "cell_type": "markdown",
   "metadata": {},
   "source": [
    "### 1. Градиентный бустинг\n"
   ]
  },
  {
   "cell_type": "code",
   "execution_count": 11,
   "metadata": {
    "collapsed": false
   },
   "outputs": [],
   "source": [
    "kf = KFold(len(X_train), n_folds=5, shuffle=True)\n",
    "\n",
    "X_train_for_clf = np.array(X_train)\n",
    "y_train_for_clf = np.array(y_train)"
   ]
  },
  {
   "cell_type": "code",
   "execution_count": 12,
   "metadata": {
    "collapsed": false,
    "scrolled": false
   },
   "outputs": [
    {
     "name": "stdout",
     "output_type": "stream",
     "text": [
      "n_estimators =  10\n",
      "score in kf: \n",
      "0.610114253002\n",
      "0.605779728549\n",
      "0.605560947567\n",
      "0.612608326334\n",
      "0.603095652975\n",
      "Time elapsed: 0:03:45.223000\n",
      "__________\n",
      "n_estimators =  20\n",
      "score in kf: \n",
      "0.626244412001\n",
      "0.625553302743\n",
      "0.621049381765\n",
      "0.629332877339\n",
      "0.621749810808\n",
      "Time elapsed: 0:07:46.446000\n",
      "__________\n",
      "n_estimators =  30\n",
      "score in kf: \n",
      "0.634200588764\n",
      "0.632156452262\n",
      "0.629189282907\n",
      "0.636543187197\n",
      "0.628760907135\n",
      "Time elapsed: 0:23:16.942000\n",
      "__________\n"
     ]
    }
   ],
   "source": [
    "# Предсказания на кросс-валидации\n",
    "\n",
    "for n_est in [10,20,30]:\n",
    "    start_time = datetime.datetime.now()\n",
    "\n",
    "    print 'n_estimators = ', n_est\n",
    "    print \"score in kf: \"\n",
    "    for training, validation in kf:\n",
    "        clf = GradientBoostingClassifier(n_estimators=n_est)\n",
    "        clf.fit(X_train_for_clf[training], y_train_for_clf[training])\n",
    "        prediction = clf.predict(X_train_for_clf[validation])\n",
    "\n",
    "        score = roc_auc_score(y_train_for_clf[validation], prediction)\n",
    "        print score\n",
    "    print 'Time elapsed:', datetime.datetime.now() - start_time\n",
    "    print '_'*10 \n",
    "    "
   ]
  },
  {
   "cell_type": "markdown",
   "metadata": {},
   "source": [
    "### 2. Логистическая регрессия\n",
    "\n",
    "\n",
    "Оцените качество логистической регрессии (sklearn.linear_model.LogisticRegression с L2-регуляризацией) с помощью кросс-валидации по той же схеме, которая использовалась для градиентного бустинга. Подберите при этом лучший параметр регуляризации (C). Какое наилучшее качество у вас получилось? Как оно соотносится с качеством градиентного бустинга? Чем вы можете объяснить эту разницу? Быстрее ли работает логистическая регрессия по сравнению с градиентным бустингом?"
   ]
  },
  {
   "cell_type": "code",
   "execution_count": 12,
   "metadata": {
    "collapsed": true
   },
   "outputs": [],
   "source": [
    "from sklearn.linear_model import LogisticRegression\n",
    "from sklearn.preprocessing import StandardScaler, scale"
   ]
  },
  {
   "cell_type": "code",
   "execution_count": 13,
   "metadata": {
    "collapsed": false
   },
   "outputs": [],
   "source": [
    "X_train_for_clf = StandardScaler().fit_transform(X_train_for_clf)"
   ]
  },
  {
   "cell_type": "code",
   "execution_count": 15,
   "metadata": {
    "collapsed": false,
    "scrolled": true
   },
   "outputs": [
    {
     "name": "stdout",
     "output_type": "stream",
     "text": [
      "c_value = 0.005000, score in kf: \n",
      "0.656536048545\n",
      "0.654941890363\n",
      "0.652576365319\n",
      "0.660187185025\n",
      "0.652936336522\n",
      "c_value = 0.006000, score in kf: \n",
      "0.65663889746\n",
      "0.654993314821\n",
      "0.65216496966\n",
      "0.660752854057\n",
      "0.652833487607\n",
      "c_value = 0.007000, score in kf: \n",
      "0.656484624087\n",
      "0.654684768076\n",
      "0.652010696287\n",
      "0.661009976345\n",
      "0.652987760979\n",
      "c_value = 0.008000, score in kf: \n",
      "0.656484624087\n",
      "0.654479070246\n",
      "0.652216394117\n",
      "0.66111282526\n",
      "0.653193458809\n",
      "c_value = 0.009000, score in kf: \n",
      "0.656484624087\n",
      "0.654427645788\n",
      "0.652422091947\n",
      "0.66111282526\n",
      "0.653193458809\n"
     ]
    }
   ],
   "source": [
    "for c_value in np.arange (0.005,0.01,0.001):\n",
    "    print \"c_value = %3f, score in kf: \" %c_value\n",
    "    for training, validation in kf:\n",
    "        clf = LogisticRegression(penalty= 'l2', C = c_value)\n",
    "        clf.fit(X_train_for_clf[training], y_train_for_clf[training])\n",
    "        \n",
    "        prediction = clf.predict(X_train_for_clf[validation])\n",
    "        score = accuracy_score(y_train_for_clf[validation], prediction)\n",
    "        print score\n"
   ]
  },
  {
   "cell_type": "markdown",
   "metadata": {},
   "source": [
    "Среди признаков в выборке есть категориальные, которые мы использовали как числовые, что вряд ли является хорошей идеей. Категориальных признаков в этой задаче одиннадцать: lobby_type и r1_hero, r2_hero, ..., r5_hero, d1_hero, d2_hero, ..., d5_hero. Уберите их из выборки, и проведите кросс-валидацию для логистической регрессии на новой выборке с подбором лучшего параметра регуляризации. Изменилось ли качество? Чем вы можете это объяснить?"
   ]
  },
  {
   "cell_type": "code",
   "execution_count": 14,
   "metadata": {
    "collapsed": true
   },
   "outputs": [],
   "source": [
    "uncategorial_features = ['lobby_type', 'r1_hero', 'r2_hero', 'r3_hero', 'r4_hero', 'r5_hero','d1_hero', 'd2_hero', 'd3_hero', 'd4_hero', 'd5_hero']"
   ]
  },
  {
   "cell_type": "code",
   "execution_count": 15,
   "metadata": {
    "collapsed": false
   },
   "outputs": [],
   "source": [
    "for item in uncategorial_features:\n",
    "    del X_train[item]"
   ]
  },
  {
   "cell_type": "code",
   "execution_count": 16,
   "metadata": {
    "collapsed": true
   },
   "outputs": [],
   "source": [
    "X_train_for_clf = np.array(X_train)\n",
    "y_train_for_clf = np.array(y_train)\n",
    "\n",
    "X_train_for_clf = StandardScaler().fit_transform(X_train_for_clf)"
   ]
  },
  {
   "cell_type": "code",
   "execution_count": 19,
   "metadata": {
    "collapsed": false,
    "scrolled": false
   },
   "outputs": [
    {
     "name": "stdout",
     "output_type": "stream",
     "text": [
      "c_value = 0.005000, score in kf: \n",
      "0.656278926257\n",
      "0.654067674586\n",
      "0.651702149542\n",
      "0.6607014296\n",
      "0.653193458809\n",
      "c_value = 0.006000, score in kf: \n",
      "0.6562275018\n",
      "0.654016250129\n",
      "0.651599300627\n",
      "0.660392882855\n",
      "0.653142034352\n",
      "c_value = 0.007000, score in kf: \n",
      "0.656381775172\n",
      "0.653964825671\n",
      "0.651496451712\n",
      "0.660392882855\n",
      "0.653193458809\n",
      "c_value = 0.008000, score in kf: \n",
      "0.656073228427\n",
      "0.654119099044\n",
      "0.651599300627\n",
      "0.660444307313\n",
      "0.653502005554\n",
      "c_value = 0.009000, score in kf: \n",
      "0.656278926257\n",
      "0.654119099044\n",
      "0.651856422915\n",
      "0.660444307313\n",
      "0.653502005554\n"
     ]
    }
   ],
   "source": [
    "for c_value in np.arange (0.005,0.01,0.001):\n",
    "    print \"c_value = %3f, score in kf: \" %c_value\n",
    "    for training, validation in kf:\n",
    "        clf = LogisticRegression(penalty= 'l2', C = c_value)\n",
    "        clf.fit(X_train_for_clf[training], y_train_for_clf[training])\n",
    "        \n",
    "        prediction = clf.predict(X_train_for_clf[validation])\n",
    "        score = accuracy_score(y_train_for_clf[validation], prediction)\n",
    "        print score\n"
   ]
  },
  {
   "cell_type": "markdown",
   "metadata": {},
   "source": [
    "Удаление этих признаков, не повлияло на качество обучения выборки. Возможно, данные признаки не являются релевантными для данного набора данных."
   ]
  },
  {
   "cell_type": "markdown",
   "metadata": {},
   "source": [
    "\n",
    "На предыдущем шаге мы исключили из выборки признаки rM_hero и dM_hero, которые показывают, какие именно герои играли за каждую команду. Это важные признаки — герои имеют разные характеристики, и некоторые из них выигрывают чаще, чем другие. Выясните из данных, сколько различных идентификаторов героев существует в данной игре (вам может пригодиться фукнция unique или value_counts)."
   ]
  },
  {
   "cell_type": "code",
   "execution_count": 22,
   "metadata": {
    "collapsed": false
   },
   "outputs": [
    {
     "name": "stdout",
     "output_type": "stream",
     "text": [
      "112\n"
     ]
    }
   ],
   "source": [
    "num_players = train_features.r1_hero.unique().max()\n",
    "\n",
    "print num_players"
   ]
  },
  {
   "cell_type": "markdown",
   "metadata": {},
   "source": [
    "Воспользуемся подходом \"мешок слов\" для кодирования информации о героях. Пусть всего в игре имеет N различных героев. Сформируем N признаков, при этом i-й будет равен нулю, если i-й герой не участвовал в матче; единице, если i-й герой играл за команду Radiant; минус единице, если i-й герой играл за команду Dire. Ниже вы можете найти код, который выполняет данной преобразование. Добавьте полученные признаки к числовым, которые вы использовали во втором пункте данного этапа."
   ]
  },
  {
   "cell_type": "code",
   "execution_count": 19,
   "metadata": {
    "collapsed": false
   },
   "outputs": [],
   "source": [
    "X_pick = np.zeros((train_features.shape[0], num_players))\n",
    "\n",
    "for i, match_id in enumerate(X_train.index):\n",
    "    for p in xrange(5):\n",
    "        X_pick[i, train_features.ix[match_id, 'r%d_hero' % (p+1)]-1] = 1\n",
    "        X_pick[i, train_features.ix[match_id, 'd%d_hero' % (p+1)]-1] = -1"
   ]
  },
  {
   "cell_type": "code",
   "execution_count": 20,
   "metadata": {
    "collapsed": false
   },
   "outputs": [],
   "source": [
    "for i in xrange(num_players):\n",
    "    X_train['h_%d' % i] = X_pick[:,i]"
   ]
  },
  {
   "cell_type": "markdown",
   "metadata": {},
   "source": [
    "Проведите кросс-валидацию для логистической регрессии на новой выборке с подбором лучшего параметра регуляризации. Какое получилось качество? Улучшилось ли оно? Чем вы можете это объяснить?"
   ]
  },
  {
   "cell_type": "code",
   "execution_count": 21,
   "metadata": {
    "collapsed": false
   },
   "outputs": [],
   "source": [
    "X_train_for_clf = np.array(X_train)\n",
    "X_train_for_clf =  StandardScaler().fit_transform(X_train_for_clf)"
   ]
  },
  {
   "cell_type": "code",
   "execution_count": null,
   "metadata": {
    "collapsed": true
   },
   "outputs": [],
   "source": [
    "kf = KFold(len(X_train_for_clf), n_folds=5, shuffle=True)"
   ]
  },
  {
   "cell_type": "code",
   "execution_count": 26,
   "metadata": {
    "collapsed": false,
    "scrolled": true
   },
   "outputs": [
    {
     "name": "stdout",
     "output_type": "stream",
     "text": [
      "c_value = 0.005000, score in kf: \n",
      "0.681171380706\n",
      "0.684096874551\n",
      "0.677690552611\n",
      "0.680696255871\n",
      "0.687083302163\n",
      "c_value = 0.006000, score in kf: \n",
      "0.681117910489\n",
      "0.684184945213\n",
      "0.677732906956\n",
      "0.680839740529\n",
      "0.687096516988\n",
      "c_value = 0.007000, score in kf: \n",
      "0.681373439333\n",
      "0.68375063981\n",
      "0.677683244659\n",
      "0.680588786769\n",
      "0.686890607134\n",
      "c_value = 0.008000, score in kf: \n",
      "0.681522027743\n",
      "0.683594299821\n",
      "0.677942518068\n",
      "0.680189918601\n",
      "0.686724611771\n",
      "c_value = 0.009000, score in kf: \n",
      "0.681216969429\n",
      "0.683544672029\n",
      "0.677935210117\n",
      "0.680037574445\n",
      "0.686359313966\n"
     ]
    }
   ],
   "source": [
    "for c_value in np.arange (0.005,0.01,0.001):\n",
    "    print \"c_value = %3f, score in kf: \" %c_value\n",
    "    for training, validation in kf:\n",
    "        clf = LogisticRegression(penalty= 'l2', C = c_value, random_state=240)\n",
    "        clf.fit(X_train_for_clf[training], y_train_for_clf[training])\n",
    "        \n",
    "        prediction = clf.predict(X_train_for_clf[validation])\n",
    "        score = roc_auc_score(y_train_for_clf[validation], prediction)\n",
    "        print score\n"
   ]
  },
  {
   "cell_type": "markdown",
   "metadata": {},
   "source": [
    "Качество предсказания улучшилось. Объяснить это можно появлением нового, более информативного признака."
   ]
  },
  {
   "cell_type": "markdown",
   "metadata": {},
   "source": [
    "### Лучшее предсказание на логичтиечской регрессии\n",
    "\n"
   ]
  },
  {
   "cell_type": "code",
   "execution_count": 143,
   "metadata": {
    "collapsed": false
   },
   "outputs": [
    {
     "name": "stdout",
     "output_type": "stream",
     "text": [
      "0.751900517466\n"
     ]
    }
   ],
   "source": [
    "kf = KFold(len(X_train_for_clf), n_folds=5, shuffle=True)\n",
    "\n",
    "X_train_for_clf = StandardScaler().fit_transform(X_train)\n",
    "clf = LogisticRegression(penalty= 'l2', C = 0.01, random_state=240)\n",
    "score = cross_val_score(clf, X_train_for_clf, y_train, cv = kf, scoring='roc_auc').mean()\n",
    "print score"
   ]
  },
  {
   "cell_type": "code",
   "execution_count": 23,
   "metadata": {
    "collapsed": true
   },
   "outputs": [],
   "source": [
    "X_test = pd.read_csv('./features_test.csv', index_col='match_id')\n",
    "X_test = X_test.fillna(value = 0)"
   ]
  },
  {
   "cell_type": "markdown",
   "metadata": {},
   "source": [
    "### Добавляем новые признаки в тест"
   ]
  },
  {
   "cell_type": "code",
   "execution_count": 24,
   "metadata": {
    "collapsed": true
   },
   "outputs": [],
   "source": [
    "X_pick = np.zeros((X_test.shape[0], num_players))\n",
    "\n",
    "for i, match_id in enumerate(X_test.index):\n",
    "    for p in xrange(5):\n",
    "        X_pick[i, X_test.ix[match_id, 'r%d_hero' % (p+1)]-1] = 1\n",
    "        X_pick[i, X_test.ix[match_id, 'd%d_hero' % (p+1)]-1] = -1\n",
    "        \n",
    "num_players  = X_test.r1_hero.unique().max()\n",
    "\n",
    "for i in xrange(num_players):\n",
    "    X_test['h_%d' % i] = X_pick[:,i]\n",
    "    \n",
    "# Удаляем некатегориальные признаки\n",
    "\n",
    "for item in uncategorial_features:\n",
    "    del X_test[item]"
   ]
  },
  {
   "cell_type": "code",
   "execution_count": 27,
   "metadata": {
    "collapsed": true
   },
   "outputs": [],
   "source": [
    "X_test_for_clf = StandardScaler().fit_transform(X_test)"
   ]
  },
  {
   "cell_type": "code",
   "execution_count": 25,
   "metadata": {
    "collapsed": false
   },
   "outputs": [
    {
     "name": "stdout",
     "output_type": "stream",
     "text": [
      "(97230, 203) (17177, 203)\n"
     ]
    }
   ],
   "source": [
    "print X_train.shape, X_test.shape"
   ]
  },
  {
   "cell_type": "code",
   "execution_count": 28,
   "metadata": {
    "collapsed": false,
    "scrolled": true
   },
   "outputs": [],
   "source": [
    "clf = LogisticRegression(penalty= 'l2', C = 0.01, random_state=240)\n",
    "clf.fit(X_train_for_clf, y_train)\n",
    "\n",
    "prediction_win =clf.predict_proba(X_test_for_clf)"
   ]
  },
  {
   "cell_type": "code",
   "execution_count": 31,
   "metadata": {
    "collapsed": false
   },
   "outputs": [
    {
     "name": "stdout",
     "output_type": "stream",
     "text": [
      "0.996328715925 0.00367128407457\n"
     ]
    }
   ],
   "source": [
    "print prediction_win.max(), prediction_win.min()"
   ]
  },
  {
   "cell_type": "code",
   "execution_count": 153,
   "metadata": {
    "collapsed": false
   },
   "outputs": [],
   "source": [
    "prediction_win =clf.predict_proba(X_test_for_clf)\n",
    "Y_pred = clf.predict(X_test_for_clf)"
   ]
  },
  {
   "cell_type": "code",
   "execution_count": 178,
   "metadata": {
    "collapsed": false
   },
   "outputs": [],
   "source": [
    "X_test['radiant_win'] = prediction_win[:,1]"
   ]
  },
  {
   "cell_type": "code",
   "execution_count": 201,
   "metadata": {
    "collapsed": false,
    "scrolled": true
   },
   "outputs": [],
   "source": [
    "d = pd.DataFrame({'radiant_win':X_test.radiant_win})"
   ]
  },
  {
   "cell_type": "code",
   "execution_count": 200,
   "metadata": {
    "collapsed": true
   },
   "outputs": [],
   "source": [
    "d.to_csv('predictions.csv')"
   ]
  }
 ],
 "metadata": {
  "kernelspec": {
   "display_name": "Python 2",
   "language": "python",
   "name": "python2"
  },
  "language_info": {
   "codemirror_mode": {
    "name": "ipython",
    "version": 2
   },
   "file_extension": ".py",
   "mimetype": "text/x-python",
   "name": "python",
   "nbconvert_exporter": "python",
   "pygments_lexer": "ipython2",
   "version": "2.7.11"
  }
 },
 "nbformat": 4,
 "nbformat_minor": 0
}
