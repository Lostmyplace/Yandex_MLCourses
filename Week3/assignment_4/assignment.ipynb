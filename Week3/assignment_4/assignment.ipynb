{
 "cells": [
  {
   "cell_type": "code",
   "execution_count": 61,
   "metadata": {
    "collapsed": false
   },
   "outputs": [],
   "source": [
    "import pandas as pd\n",
    "import numpy as np\n",
    "from sklearn.metrics import accuracy_score,precision_score, recall_score, f1_score, roc_auc_score, precision_recall_curve\n",
    "\n",
    "import heapq"
   ]
  },
  {
   "cell_type": "code",
   "execution_count": 2,
   "metadata": {
    "collapsed": true
   },
   "outputs": [],
   "source": [
    "data = pd.read_csv('classification.csv')"
   ]
  },
  {
   "cell_type": "code",
   "execution_count": 3,
   "metadata": {
    "collapsed": false
   },
   "outputs": [],
   "source": [
    "data = np.array(data)\n",
    "\n",
    "TP, TN, FP,FN = 0, 0, 0, 0\n",
    "\n",
    "for i in range (data.shape[0]):\n",
    "    if (data[i][0]  == 1) :\n",
    "        if (data[i][0] == data[i][1]):\n",
    "            TP= TP +1\n",
    "        else:  FN = FN+1\n",
    "    if (data[i][0] ==0) :\n",
    "        if (data[i][0] == data[i][1]):\n",
    "            TN= TN +1\n",
    "        else: FP = FP+1"
   ]
  },
  {
   "cell_type": "code",
   "execution_count": 135,
   "metadata": {
    "collapsed": false
   },
   "outputs": [],
   "source": [
    "with open ('q1.txt', 'w') as out:\n",
    "    out.write( '%d %d %d %d' % (TP,FP,TN,FN))"
   ]
  },
  {
   "cell_type": "code",
   "execution_count": 7,
   "metadata": {
    "collapsed": false
   },
   "outputs": [],
   "source": [
    "accuracy = accuracy_score(data[:,0], data[:,1])\n",
    "precision = precision_score(data[:,0], data[:,1])\n",
    "recall = recall_score(data[:,0], data[:,1])\n",
    "f1 = f1_score(data[:,0], data[:,1])"
   ]
  },
  {
   "cell_type": "code",
   "execution_count": 136,
   "metadata": {
    "collapsed": true
   },
   "outputs": [],
   "source": [
    "with open ('q2.txt', 'w') as out:\n",
    "    out.write( '%d %d %d %d' % (accuracy,precision, recall, f1))"
   ]
  },
  {
   "cell_type": "code",
   "execution_count": 137,
   "metadata": {
    "collapsed": false
   },
   "outputs": [],
   "source": [
    "score_data = pd.read_csv('scores.csv')"
   ]
  },
  {
   "cell_type": "code",
   "execution_count": 192,
   "metadata": {
    "collapsed": false
   },
   "outputs": [],
   "source": [
    "classifier_result = np.array([])\n",
    "\n",
    "for i in score_data.columns[1:]:\n",
    "    classifier_result = np.append (classifier_result,roc_auc_score(score_data['true'], score_data[i]))"
   ]
  },
  {
   "cell_type": "code",
   "execution_count": 200,
   "metadata": {
    "collapsed": false
   },
   "outputs": [],
   "source": [
    "index_map = list (map(classifier_result.tolist().index, heapq.nlargest(1,classifier_result)))\n",
    "top_resq3 = np.array([score_data.columns[i+1] for i in index_map])"
   ]
  },
  {
   "cell_type": "code",
   "execution_count": 197,
   "metadata": {
    "collapsed": true
   },
   "outputs": [],
   "source": [
    "with open('q3.txt', 'w') as out:\n",
    "    out.write(top_resq3)"
   ]
  },
  {
   "cell_type": "code",
   "execution_count": 194,
   "metadata": {
    "collapsed": false
   },
   "outputs": [],
   "source": [
    "classifier_result = np.array([])\n",
    "\n",
    "for i in score_data.columns[1:]:\n",
    "    precRecCurve = precision_recall_curve(score_data['true'], score_data[i])\n",
    "    frame = pd.DataFrame({ 'precision': precRecCurve[0], 'recall': precRecCurve[1] })\n",
    "    classifier_result = np.append(classifier_result, frame[frame['recall'] >= 0.7]['precision'].max())\n"
   ]
  },
  {
   "cell_type": "code",
   "execution_count": 199,
   "metadata": {
    "collapsed": false
   },
   "outputs": [],
   "source": [
    "index_map = list (map(classifier_result.tolist().index, heapq.nlargest(1,classifier_result)))\n",
    "top_resq4 = np.array([score_data.columns[i+1] for i in index_map])"
   ]
  },
  {
   "cell_type": "code",
   "execution_count": 198,
   "metadata": {
    "collapsed": false
   },
   "outputs": [],
   "source": [
    "with open('q4.txt', 'w') as out:\n",
    "    out.write(top_resq4)"
   ]
  }
 ],
 "metadata": {
  "kernelspec": {
   "display_name": "Python 2",
   "language": "python",
   "name": "python2"
  },
  "language_info": {
   "codemirror_mode": {
    "name": "ipython",
    "version": 2
   },
   "file_extension": ".py",
   "mimetype": "text/x-python",
   "name": "python",
   "nbconvert_exporter": "python",
   "pygments_lexer": "ipython2",
   "version": "2.7.11"
  }
 },
 "nbformat": 4,
 "nbformat_minor": 0
}
