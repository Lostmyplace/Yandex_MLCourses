{
 "cells": [
  {
   "cell_type": "code",
   "execution_count": 47,
   "metadata": {
    "collapsed": false
   },
   "outputs": [],
   "source": [
    "from sklearn import datasets\n",
    "from sklearn.feature_extraction.text import TfidfVectorizer\n",
    "from sklearn.grid_search import GridSearchCV\n",
    "from sklearn.cross_validation import KFold\n",
    "from sklearn.svm import SVC\n",
    "import numpy as np\n",
    "import heapq\n",
    "\n",
    "from StringIO import StringIO"
   ]
  },
  {
   "cell_type": "code",
   "execution_count": 2,
   "metadata": {
    "collapsed": false
   },
   "outputs": [],
   "source": [
    "data = datasets.fetch_20newsgroups (subset = 'all', categories = ['alt.atheism', 'sci.space'])"
   ]
  },
  {
   "cell_type": "code",
   "execution_count": 3,
   "metadata": {
    "collapsed": false
   },
   "outputs": [],
   "source": [
    "X = data.data\n",
    "y = data.target\n",
    "\n",
    "vectorizer = TfidfVectorizer()\n",
    "v = vectorizer.fit_transform(X)"
   ]
  },
  {
   "cell_type": "code",
   "execution_count": 25,
   "metadata": {
    "collapsed": false
   },
   "outputs": [
    {
     "name": "stdout",
     "output_type": "stream",
     "text": [
      "()\n",
      "('mean_validation_score:', 0.55263157894736847)\n",
      "('parameters:', {'C': 1.0000000000000001e-05})\n",
      "()\n",
      "('mean_validation_score:', 0.55263157894736847)\n",
      "('parameters:', {'C': 0.0001})\n",
      "()\n",
      "('mean_validation_score:', 0.55263157894736847)\n",
      "('parameters:', {'C': 0.001})\n",
      "()\n",
      "('mean_validation_score:', 0.55263157894736847)\n",
      "('parameters:', {'C': 0.01})\n",
      "()\n",
      "('mean_validation_score:', 0.95016797312430012)\n",
      "('parameters:', {'C': 0.10000000000000001})\n",
      "()\n",
      "('mean_validation_score:', 0.99328107502799556)\n",
      "('parameters:', {'C': 1.0})\n",
      "()\n",
      "('mean_validation_score:', 0.99328107502799556)\n",
      "('parameters:', {'C': 10.0})\n",
      "()\n",
      "('mean_validation_score:', 0.99328107502799556)\n",
      "('parameters:', {'C': 100.0})\n",
      "()\n",
      "('mean_validation_score:', 0.99328107502799556)\n",
      "('parameters:', {'C': 1000.0})\n",
      "()\n",
      "('mean_validation_score:', 0.99328107502799556)\n",
      "('parameters:', {'C': 10000.0})\n",
      "()\n",
      "('mean_validation_score:', 0.99328107502799556)\n",
      "('parameters:', {'C': 100000.0})\n"
     ]
    }
   ],
   "source": [
    "grid = {'C' : np.power (10.0, np.arange(-5,6))}\n",
    "cv = KFold (y.size , n_folds=5, shuffle=True, random_state=241)\n",
    "clf = SVC(kernel = 'linear', random_state = 241)\n",
    "clf.fit(v,y)\n",
    "gs = GridSearchCV(clf, grid, scoring='accuracy', cv=cv)\n",
    "gs.fit(v, y)\n",
    "\n",
    "for a in gs.grid_scores_:\n",
    "    print('mean_validation_score:', a.mean_validation_score)\n",
    "    print('parameters:', a.parameters)\n",
    "    print()"
   ]
  },
  {
   "cell_type": "code",
   "execution_count": 63,
   "metadata": {
    "collapsed": false
   },
   "outputs": [],
   "source": [
    "words = vectorizer.get_feature_names()\n",
    "coefs = abs(clf.coef_.toarray()[0])"
   ]
  },
  {
   "cell_type": "code",
   "execution_count": 64,
   "metadata": {
    "collapsed": false
   },
   "outputs": [
    {
     "name": "stdout",
     "output_type": "stream",
     "text": [
      "[u'atheism' u'atheists' u'bible' u'god' u'keith' u'moon' u'religion' u'sci'\n",
      " u'sky' u'space']\n"
     ]
    }
   ],
   "source": [
    "important_index = list(map(coefs.tolist().index, heapq.nlargest(10, coefs)))\n",
    "ten_words = np.array([words[i] for i in important_index])\n",
    "sorted_words =  np.sort (ten_words)\n",
    "\n",
    "print sorted_words"
   ]
  },
  {
   "cell_type": "code",
   "execution_count": 65,
   "metadata": {
    "collapsed": false
   },
   "outputs": [],
   "source": [
    "with open ('solution.txt', \"w\") as out:\n",
    "    out.write(','.join(sorted_words))"
   ]
  }
 ],
 "metadata": {
  "kernelspec": {
   "display_name": "Python 2",
   "language": "python",
   "name": "python2"
  },
  "language_info": {
   "codemirror_mode": {
    "name": "ipython",
    "version": 2
   },
   "file_extension": ".py",
   "mimetype": "text/x-python",
   "name": "python",
   "nbconvert_exporter": "python",
   "pygments_lexer": "ipython2",
   "version": "2.7.11"
  }
 },
 "nbformat": 4,
 "nbformat_minor": 0
}
