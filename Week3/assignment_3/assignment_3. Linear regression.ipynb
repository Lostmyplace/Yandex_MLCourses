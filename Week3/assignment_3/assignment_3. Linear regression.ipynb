{
 "cells": [
  {
   "cell_type": "code",
   "execution_count": 1,
   "metadata": {
    "collapsed": true
   },
   "outputs": [],
   "source": [
    "import pandas as pd\n",
    "import numpy as np\n",
    "from scipy.spatial import distance\n",
    "from sklearn.metrics import roc_auc_score"
   ]
  },
  {
   "cell_type": "code",
   "execution_count": 2,
   "metadata": {
    "collapsed": false
   },
   "outputs": [],
   "source": [
    "name_rows = range(3)\n",
    "data = pd.read_csv('data-logistic.csv', names=name_rows)\n",
    "\n",
    "X = data[name_rows[1:]]\n",
    "y = data[name_rows[0]]\n",
    "\n",
    "X = np.array(X)\n",
    "y = np.array(y)"
   ]
  },
  {
   "cell_type": "code",
   "execution_count": 21,
   "metadata": {
    "collapsed": false
   },
   "outputs": [],
   "source": [
    "def sigmoid (X, weights):\n",
    "    return 1 / (1 + np.exp(-np.dot(X, weights)))\n",
    "\n",
    "def cost_functionLR(X, y, w, C):\n",
    "    sum = 0\n",
    "    for i in xrange(X.shape[0]):\n",
    "        sum += np.log(1 + np.exp(-y[i] * np.dot(X[i], w)))\n",
    "    \n",
    "    cost = sum / np.double(X.shape[0]) + C * (w ** 2).sum() / (X.shape[1])\n",
    "    return cost\n",
    "\n",
    "def L2Regularisation(X, y, k, C):\n",
    "    l = X.shape[0]\n",
    "    num_colums = X.shape[1]\n",
    "    weight_matrix = np.zeros(num_colums)\n",
    "    threshold = 1e-5\n",
    "    cost_r= cost_functionLR(X, y,weight_matrix, C)\n",
    "    \n",
    "    for iteration in xrange(1000):\n",
    "        new_w = np.zeros(num_colums)\n",
    "        for num_c in range(num_colums):\n",
    "            sum = 0\n",
    "            for i in range(l):\n",
    "                sum += y[i] * X[i,num_c] * (1 - 1 / (1 + np.exp(-y[i] * np.dot(X[i], weight_matrix))))\n",
    "            new_w[num_c] = weight_matrix[num_c] + (k / l)* sum - k * C * weight_matrix[num_c]\n",
    "        new_cost = cost_functionLR(X, y, new_w, C)\n",
    "        if (distance.euclidean(weight_matrix, new_w) <= threshold):\n",
    "            return new_w\n",
    "        cost_r = new_cost\n",
    "        weight_matrix = new_w\n",
    "    return weight_matrix\n",
    "   \n",
    "    "
   ]
  },
  {
   "cell_type": "code",
   "execution_count": 24,
   "metadata": {
    "collapsed": false
   },
   "outputs": [
    {
     "name": "stdout",
     "output_type": "stream",
     "text": [
      "0.926857142857 0.936285714286\n"
     ]
    }
   ],
   "source": [
    "k = 0.1\n",
    "\n",
    "linearRegressionL2 = sigmoid(X, L2Regularisation(X, y, k, C = 0) )  \n",
    "linearRegressionL2_10C = sigmoid(X, L2Regularisation(X, y, k, C = 10) )  \n",
    "\n",
    "score = roc_auc_score(y, linearRegressionL2)\n",
    "score10 = roc_auc_score(y, linearRegressionL2_10C)\n",
    "print score, score10 "
   ]
  },
  {
   "cell_type": "code",
   "execution_count": 26,
   "metadata": {
    "collapsed": false
   },
   "outputs": [],
   "source": [
    "with open('t.txt', 'w') as out:\n",
    "    out.write('%.3f %.3f' %(score,score10)  )"
   ]
  }
 ],
 "metadata": {
  "kernelspec": {
   "display_name": "Python 2",
   "language": "python",
   "name": "python2"
  },
  "language_info": {
   "codemirror_mode": {
    "name": "ipython",
    "version": 2
   },
   "file_extension": ".py",
   "mimetype": "text/x-python",
   "name": "python",
   "nbconvert_exporter": "python",
   "pygments_lexer": "ipython2",
   "version": "2.7.11"
  }
 },
 "nbformat": 4,
 "nbformat_minor": 0
}
