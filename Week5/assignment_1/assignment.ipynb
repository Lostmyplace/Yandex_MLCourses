{
 "cells": [
  {
   "cell_type": "code",
   "execution_count": 37,
   "metadata": {
    "collapsed": false
   },
   "outputs": [],
   "source": [
    "import pandas as pd\n",
    "from sklearn.ensemble import RandomForestRegressor\n",
    "from sklearn.cross_validation import KFold, cross_val_score\n",
    "from sklearn.metrics import r2_score"
   ]
  },
  {
   "cell_type": "code",
   "execution_count": 2,
   "metadata": {
    "collapsed": true
   },
   "outputs": [],
   "source": [
    "data = pd.read_csv('abalone.csv')"
   ]
  },
  {
   "cell_type": "code",
   "execution_count": 4,
   "metadata": {
    "collapsed": false
   },
   "outputs": [],
   "source": [
    "data['Sex'] = data['Sex'].map(lambda x: 1 if x == 'M' else (-1 if x == 'F' else 0))"
   ]
  },
  {
   "cell_type": "code",
   "execution_count": 147,
   "metadata": {
    "collapsed": false
   },
   "outputs": [],
   "source": [
    "X = np.array(data[data.columns[:8]])\n",
    "y =  np.array(data.Rings)"
   ]
  },
  {
   "cell_type": "code",
   "execution_count": 160,
   "metadata": {
    "collapsed": false
   },
   "outputs": [
    {
     "name": "stdout",
     "output_type": "stream",
     "text": [
      "[ 0.08862388  0.30839841  0.39819345  0.41418521  0.46180132  0.45526294\n",
      "  0.46488656  0.48052811  0.4905297   0.49039788  0.50478168  0.49008928\n",
      "  0.50487267  0.51087899  0.50623489  0.51054522  0.5121827   0.51187706\n",
      "  0.5081283   0.51574141  0.51132806  0.51622179  0.51423513  0.52372997\n",
      "  0.52267178  0.52589184  0.52124906  0.5189733   0.52151625  0.51941159\n",
      "  0.52339357  0.52200684  0.5236023   0.52278636  0.52227485  0.52329639\n",
      "  0.52663644  0.52273371  0.52649415  0.5229071   0.5254254   0.5346619\n",
      "  0.52928891  0.5266024   0.52639973  0.52732121  0.52486186  0.52565548\n",
      "  0.53067587  0.53147047]\n"
     ]
    }
   ],
   "source": [
    "accuracy_N_Forest = np.array([])\n",
    "\n",
    "for i in range(1,51):\n",
    "    clf = RandomForestRegressor(n_estimators = i)\n",
    "    kf =KFold(len(X), n_folds = 5, shuffle= True, random_state= 1 )\n",
    "\n",
    "    count = np.array([])\n",
    "    \n",
    "    for training, validation in kf:\n",
    "        \n",
    "        X_train, X_test = X[training], X[validation]\n",
    "        y_train, y_test = y[training], y[validation]\n",
    "        \n",
    "        clf.fit(X_train, y_train)\n",
    "        prediction = clf.predict(X_test)\n",
    "        count = np.append(count, r2_score(y_test, prediction))\n",
    "    accuracy_N_Forest = np.append(accuracy_N_Forest, np.mean(count))\n",
    "print accuracy_N_Forest"
   ]
  },
  {
   "cell_type": "code",
   "execution_count": 161,
   "metadata": {
    "collapsed": false
   },
   "outputs": [
    {
     "name": "stdout",
     "output_type": "stream",
     "text": [
      "[24 25 26 27 29 31 32 33 34 35 36 37 38 39 40 41 42 43 44 45 46 47 48 49 50]\n"
     ]
    }
   ],
   "source": [
    "indexes = np.array( map(accuracy_N_Forest.tolist().index, filter(lambda x: x > 0.52, accuracy_N_Forest)))\n",
    "numTrees = indexes+1\n",
    "print numTrees\n",
    "#np.array([accuracy_N_Forest[i] for i in indexes])"
   ]
  },
  {
   "cell_type": "code",
   "execution_count": 162,
   "metadata": {
    "collapsed": false
   },
   "outputs": [],
   "source": [
    "with open('q1.txt', 'w') as out:\n",
    "    out.write('%d' %numTrees[0])"
   ]
  }
 ],
 "metadata": {
  "kernelspec": {
   "display_name": "Python 2",
   "language": "python",
   "name": "python2"
  },
  "language_info": {
   "codemirror_mode": {
    "name": "ipython",
    "version": 2
   },
   "file_extension": ".py",
   "mimetype": "text/x-python",
   "name": "python",
   "nbconvert_exporter": "python",
   "pygments_lexer": "ipython2",
   "version": "2.7.11"
  }
 },
 "nbformat": 4,
 "nbformat_minor": 0
}
