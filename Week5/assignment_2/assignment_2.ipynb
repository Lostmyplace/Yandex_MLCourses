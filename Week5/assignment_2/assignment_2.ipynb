{
 "cells": [
  {
   "cell_type": "code",
   "execution_count": 144,
   "metadata": {
    "collapsed": false
   },
   "outputs": [],
   "source": [
    "import pandas as pd\n",
    "from sklearn.cross_validation import train_test_split\n",
    "from sklearn.ensemble import GradientBoostingClassifier, RandomForestClassifier\n",
    "import math\n",
    "from sklearn.metrics import log_loss\n",
    "\n",
    "import matplotlib.pyplot as plt\n",
    "%matplotlib inline\n"
   ]
  },
  {
   "cell_type": "code",
   "execution_count": 2,
   "metadata": {
    "collapsed": false
   },
   "outputs": [],
   "source": [
    "data = pd.read_csv('gbm-data.csv')"
   ]
  },
  {
   "cell_type": "code",
   "execution_count": 3,
   "metadata": {
    "collapsed": false
   },
   "outputs": [],
   "source": [
    "X = data[data.columns[1:]]\n",
    "y = data[data.columns[0]]\n",
    "X_train, X_test, y_train, y_test = train_test_split(X, y, test_size = 0.8, random_state=241)"
   ]
  },
  {
   "cell_type": "code",
   "execution_count": 153,
   "metadata": {
    "collapsed": false
   },
   "outputs": [
    {
     "name": "stdout",
     "output_type": "stream",
     "text": [
      "      Iter       Train Loss   Remaining Time \n",
      "         1           1.2613           57.52s\n",
      "         2           1.1715           56.30s\n",
      "         3           1.1009           55.08s\n",
      "         4           1.0529           54.43s\n",
      "         5           1.0130           53.95s\n",
      "         6           0.9740           54.21s\n",
      "         7           0.9475           53.22s\n",
      "         8           0.9197           53.09s\n",
      "         9           0.8979           52.35s\n",
      "        10           0.8730           52.10s\n",
      "        20           0.7207           48.96s\n",
      "        30           0.6055           45.64s\n",
      "        40           0.5244           43.28s\n",
      "        50           0.4501           40.93s\n",
      "        60           0.3908           39.01s\n",
      "        70           0.3372           37.00s\n",
      "        80           0.3009           34.97s\n",
      "        90           0.2603           32.76s\n",
      "       100           0.2327           30.60s\n",
      "       200           0.0835           10.02s\n",
      "LR =  0.2 best iter =  36\n"
     ]
    },
    {
     "data": {
      "image/png": "[encoded data removed]",
      "text/plain": [
       "<matplotlib.figure.Figure at 0xc7fa2b0>"
      ]
     },
     "metadata": {},
     "output_type": "display_data"
    }
   ],
   "source": [
    "l_rate = [1,0.5, 0.3, 0.2, 0.1]\n",
    "best_it_all = []\n",
    "for i in l_rate:\n",
    "    clf = GradientBoostingClassifier(n_estimators=250, learning_rate=i, verbose=True, random_state=241)\n",
    "    clf.fit(X_train, y_train)\n",
    "    \n",
    "    train_pred_iters = clf.staged_predict_proba(X_train)\n",
    "    test_pred_iters = clf.staged_predict_proba(X_test)  \n",
    "    \n",
    "    train_loss = []\n",
    "    for pred in clf.staged_decision_function(X_train):\n",
    "        train_loss.append(log_loss(y_train, [1.0/(1.0+math.exp(-x)) for x in pred]))\n",
    "    \n",
    "    test_loss = []\n",
    "    for pred in clf.staged_decision_function(X_test):\n",
    "        test_loss.append(log_loss(y_test, [1.0/(1.0+math.exp(-x)) for x in pred]))\n",
    "    \n",
    "    best_iter = np.where(test_loss == np.min(test_loss))[0][0]\n",
    "    print 'LR = ', i, 'best iter = ', best_iter\n",
    "    best_it_all.append(best_iter)\n",
    "    \n",
    "    plt.figure()\n",
    "    plt.plot(test_loss, 'r', linewidth=2)\n",
    "    plt.plot(train_loss, 'g', linewidth=2)\n",
    "    plt.xlabel('iter, n')\n",
    "    plt.ylabel('grade')\n",
    "    plt.legend(['test', 'train'])\n",
    "    \n",
    "    if i == 0.2:\n",
    "        with open('q2.txt', 'w') as out:\n",
    "            out.write('%.2f %d' %(test_loss[best_iter],best_iter))"
   ]
  },
  {
   "cell_type": "code",
   "execution_count": 152,
   "metadata": {
    "collapsed": false
   },
   "outputs": [],
   "source": [
    "rfCLF = RandomForestClassifier(n_estimators=best_it_all[3], random_state= 241)\n",
    "rfCLF.fit(X_train, y_train)\n",
    "\n",
    "predict = rfCLF.predict_proba(X_test)\n",
    "result = log_loss(y_test, predict)\n",
    "with open('q3.txt', 'w') as out:\n",
    "    out.write('%.2f'%result)"
   ]
  }
 ],
 "metadata": {
  "kernelspec": {
   "display_name": "Python 2",
   "language": "python",
   "name": "python2"
  },
  "language_info": {
   "codemirror_mode": {
    "name": "ipython",
    "version": 2
   },
   "file_extension": ".py",
   "mimetype": "text/x-python",
   "name": "python",
   "nbconvert_exporter": "python",
   "pygments_lexer": "ipython2",
   "version": "2.7.11"
  }
 },
 "nbformat": 4,
 "nbformat_minor": 0
}
