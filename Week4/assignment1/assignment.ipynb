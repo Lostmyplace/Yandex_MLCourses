{
 "cells": [
  {
   "cell_type": "code",
   "execution_count": 216,
   "metadata": {
    "collapsed": false
   },
   "outputs": [],
   "source": [
    "import pandas as pd\n",
    "from sklearn.feature_extraction.text import TfidfVectorizer\n",
    "from sklearn.feature_extraction import DictVectorizer\n",
    "\n",
    "from scipy.sparse import hstack\n",
    "\n",
    "from sklearn.linear_model import Ridge"
   ]
  },
  {
   "cell_type": "code",
   "execution_count": 223,
   "metadata": {
    "collapsed": true
   },
   "outputs": [],
   "source": [
    "def load_data(filename):\n",
    "    data = pd.read_csv(filename)\n",
    "    return data\n",
    "\n",
    "def norm_data(data):\n",
    "    data['FullDescription'].replace('[^a-zA-Z0-9]', ' ', regex = True)\n",
    "    data['FullDescription'] =  map(str.lower, data['FullDescription'])\n",
    "    data['LocationNormalized'].fillna('nan', inplace=True)\n",
    "    data['ContractTime'].fillna('nan', inplace=True) \n",
    "    return data\n",
    "\n"
   ]
  },
  {
   "cell_type": "code",
   "execution_count": 224,
   "metadata": {
    "collapsed": true
   },
   "outputs": [],
   "source": [
    "data_train = load_data('salary-train.csv')\n",
    "data_test = load_data('salary-test-mini.csv')"
   ]
  },
  {
   "cell_type": "code",
   "execution_count": 225,
   "metadata": {
    "collapsed": false
   },
   "outputs": [],
   "source": [
    "data_train = norm_data(data_train)\n",
    "data_test = norm_data(data_test)"
   ]
  },
  {
   "cell_type": "code",
   "execution_count": 234,
   "metadata": {
    "collapsed": false
   },
   "outputs": [],
   "source": [
    "tfidf = TfidfVectorizer(min_df=5)\n",
    "\n",
    "X_trainFD = tfidf.fit_transform(data_train['FullDescription'])\n",
    "X_testFD = tfidf.transform(data_test['FullDescription'])  \n",
    "\n",
    "v = DictVectorizer()\n",
    "\n",
    "X_train_LocTime = v.fit_transform(data_train[['LocationNormalized', 'ContractTime']].to_dict('records'))\n",
    "X_test_LocTime = v.transform(data_test[['LocationNormalized', 'ContractTime']].to_dict('records'))\n"
   ]
  },
  {
   "cell_type": "code",
   "execution_count": 240,
   "metadata": {
    "collapsed": false
   },
   "outputs": [],
   "source": [
    "X_train = hstack([X_trainFD, X_train_LocTime])\n",
    "X_test = hstack([X_testFD,X_test_LocTime])\n",
    "\n",
    "y_train, y_test = data_train['SalaryNormalized'],data_test['SalaryNormalized']"
   ]
  },
  {
   "cell_type": "code",
   "execution_count": 241,
   "metadata": {
    "collapsed": false
   },
   "outputs": [],
   "source": [
    "clf = Ridge(alpha=1)\n",
    "\n",
    "clf.fit(X_train, y_train)\n",
    "res = clf.predict(X_test)"
   ]
  },
  {
   "cell_type": "code",
   "execution_count": 245,
   "metadata": {
    "collapsed": false
   },
   "outputs": [
    {
     "name": "stdout",
     "output_type": "stream",
     "text": [
      "56563.5702372\n"
     ]
    }
   ],
   "source": [
    "print res[0]"
   ]
  },
  {
   "cell_type": "code",
   "execution_count": 248,
   "metadata": {
    "collapsed": false
   },
   "outputs": [],
   "source": [
    "with open ('q1.txt', 'w') as out:\n",
    "    out.write(\"%.2f %.2f\" %(res[0], res[1]))"
   ]
  }
 ],
 "metadata": {
  "kernelspec": {
   "display_name": "Python 2",
   "language": "python",
   "name": "python2"
  },
  "language_info": {
   "codemirror_mode": {
    "name": "ipython",
    "version": 2
   },
   "file_extension": ".py",
   "mimetype": "text/x-python",
   "name": "python",
   "nbconvert_exporter": "python",
   "pygments_lexer": "ipython2",
   "version": "2.7.11"
  }
 },
 "nbformat": 4,
 "nbformat_minor": 0
}
